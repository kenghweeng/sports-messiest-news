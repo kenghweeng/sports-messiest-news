{
 "cells": [
  {
   "cell_type": "code",
   "execution_count": 30,
   "id": "5e52c738-58c3-4198-8485-37db46fd0e43",
   "metadata": {},
   "outputs": [],
   "source": [
    "import pandas as pd\n",
    "import numpy as np\n",
    "import matplotlib.pyplot as plt\n",
    "from sklearn.model_selection import train_test_split\n",
    "from sklearn.neural_network import MLPClassifier\n",
    "from sklearn.datasets import make_blobs\n",
    "from sklearn.metrics import precision_recall_curve, classification_report, confusion_matrix, f1_score, auc\n",
    "np.set_printoptions(suppress=True)\n",
    "\n",
    "X, y = make_blobs(n_samples=[400,2000], centers=None,n_features=5,random_state=999,cluster_std=5)\n",
    "\n",
    "X_train, X_test, y_train, y_test = train_test_split(\n",
    "    X, y, test_size=0.2, random_state=111)"
   ]
  },
  {
   "cell_type": "code",
   "execution_count": 14,
   "id": "a2807f13-1d96-4a86-b0fb-0b50fcee25d2",
   "metadata": {},
   "outputs": [],
   "source": [
    "clf = MLPClassifier(hidden_layer_sizes=(3, 3), random_state=999)\n",
    "clf.fit(X_train, y_train)\n",
    "y_predict = clf.predict(X_test)"
   ]
  },
  {
   "cell_type": "code",
   "execution_count": 27,
   "id": "a7c5b3c1-3088-4fb2-9bbc-15f9b2f2b8fa",
   "metadata": {},
   "outputs": [],
   "source": [
    "prec,recall,thres = precision_recall_curve(y_true=y_test , probas_pred= clf.predict_proba(X_test)[:,0], pos_label=0)\n",
    "f1 = f1_score(y_test, y_predict)"
   ]
  },
  {
   "cell_type": "code",
   "execution_count": 29,
   "id": "584a49b5-d4bb-4148-87ec-8f1e459bbed5",
   "metadata": {},
   "outputs": [
    {
     "data": {
      "text/plain": [
       "0.9779446178768854"
      ]
     },
     "execution_count": 29,
     "metadata": {},
     "output_type": "execute_result"
    }
   ],
   "source": [
    "auc(recall, prec)"
   ]
  },
  {
   "cell_type": "code",
   "execution_count": 28,
   "id": "998f5eeb-1b30-4563-8c0a-57be6a022185",
   "metadata": {},
   "outputs": [
    {
     "data": {
      "text/plain": [
       "0.989010989010989"
      ]
     },
     "execution_count": 28,
     "metadata": {},
     "output_type": "execute_result"
    }
   ],
   "source": [
    "f1"
   ]
  },
  {
   "cell_type": "code",
   "execution_count": 31,
   "id": "09f54c09-dfda-41dd-b1e0-5c7248cdba6b",
   "metadata": {},
   "outputs": [
    {
     "ename": "SyntaxError",
     "evalue": "invalid syntax (3119465807.py, line 1)",
     "output_type": "error",
     "traceback": [
      "\u001b[0;36m  Input \u001b[0;32mIn [31]\u001b[0;36m\u001b[0m\n\u001b[0;31m    https://machinelearningmastery.com/threshold-moving-for-imbalanced-classification/\u001b[0m\n\u001b[0m          ^\u001b[0m\n\u001b[0;31mSyntaxError\u001b[0m\u001b[0;31m:\u001b[0m invalid syntax\n"
     ]
    }
   ],
   "source": [
    "https://machinelearningmastery.com/threshold-moving-for-imbalanced-classification/\n",
    "https://machinelearningmastery.com/roc-curves-and-precision-recall-curves-for-classification-in-python/"
   ]
  },
  {
   "cell_type": "code",
   "execution_count": 17,
   "id": "fec52813-40b4-4ea4-a532-61ab70739b41",
   "metadata": {},
   "outputs": [
    {
     "name": "stdout",
     "output_type": "stream",
     "text": [
      "              precision    recall  f1-score   support\n",
      "\n",
      "           0       0.97      0.90      0.94        73\n",
      "           1       0.98      1.00      0.99       407\n",
      "\n",
      "    accuracy                           0.98       480\n",
      "   macro avg       0.98      0.95      0.96       480\n",
      "weighted avg       0.98      0.98      0.98       480\n",
      "\n",
      "[[ 66   7]\n",
      " [  2 405]]\n"
     ]
    }
   ],
   "source": [
    "print(classification_report(y_test, y_predict))\n",
    "print(confusion_matrix(y_test, y_predict))"
   ]
  },
  {
   "cell_type": "code",
   "execution_count": 12,
   "id": "3d43f3d1-fd5e-455c-9ea4-de88f8409b12",
   "metadata": {},
   "outputs": [
    {
     "data": {
      "text/plain": [
       "[<matplotlib.lines.Line2D at 0x7f88c8eb8ca0>]"
      ]
     },
     "execution_count": 12,
     "metadata": {},
     "output_type": "execute_result"
    },
    {
     "data": {
      "image/png": "[encoded data removed]",
      "text/plain": [
       "<Figure size 432x288 with 1 Axes>"
      ]
     },
     "metadata": {
      "needs_background": "light"
     },
     "output_type": "display_data"
    }
   ],
   "source": [
    "plt.plot(prec, recall)"
   ]
  }
 ],
 "metadata": {
  "kernelspec": {
   "display_name": "messiest_news",
   "language": "python",
   "name": "messiest_news"
  },
  "language_info": {
   "codemirror_mode": {
    "name": "ipython",
    "version": 3
   },
   "file_extension": ".py",
   "mimetype": "text/x-python",
   "name": "python",
   "nbconvert_exporter": "python",
   "pygments_lexer": "ipython3",
   "version": "3.8.10"
  }
 },
 "nbformat": 4,
 "nbformat_minor": 5
}
